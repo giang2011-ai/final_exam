{
 "cells": [
  {
   "cell_type": "markdown",
   "id": "9aa9d526",
   "metadata": {},
   "source": [
    "# Final Lập trình xử lí dữ liệu\n",
    "## Đề bài: "
   ]
  },
  {
   "cell_type": "markdown",
   "id": "6602dcf8",
   "metadata": {},
   "source": []
  },
  {
   "cell_type": "markdown",
   "id": "86fcd069",
   "metadata": {},
   "source": [
    "### **1.0.** Trước tiên, import các thư viện cần:"
   ]
  },
  {
   "cell_type": "code",
   "execution_count": 60,
   "id": "02854bb9",
   "metadata": {},
   "outputs": [],
   "source": [
    "import yfinance as yf\n",
    "import pandas as pd\n",
    "import matplotlib.pyplot as plt\n",
    "import seaborn as sns"
   ]
  },
  {
   "cell_type": "markdown",
   "id": "c78b5bd1",
   "metadata": {},
   "source": [
    "Các thư viện trên đã là tương đối đầy đủ để visualize các dữ liệu. Nhưng để nó thân thiện với người dùng hơn, ta thêm một vài thư viện mới, để giao diện có thể tương tác với người dùng. "
   ]
  },
  {
   "cell_type": "code",
   "execution_count": 61,
   "id": "4305b2bc",
   "metadata": {},
   "outputs": [],
   "source": [
    "import plotly.express as px\n",
    "import webbrowser"
   ]
  },
  {
   "cell_type": "markdown",
   "id": "864d6b7c",
   "metadata": {},
   "source": [
    "### **1.1.** Chọn cổ phiếu:\n",
    " Cổ phiếu được chọn là của Tencent Holdings Limited (viết tắt: THL) được niêm yết chính thức trên sàn chứng khoán Hồng Kông (HKEX) với mã cổ phiếu 0700.HK. Thời gian khảo sát là 5 năm (2020-2025). Nguồn dữ liệu từ Yahoo Finance – được coi là tương đối đáng tin cậy trong giới đầu tư, tuy nhiên một số sai số nhỏ hoặc chênh lệch thời gian vẫn có thể xảy ra.\n",
    "\n",
    " ### **1.2.** Thu thập dữ liệu giá cổ phiếu:\n",
    " Ta sẽ dùng thư viện yfinance để lấy dữ liệu cổ phiếu Tencent."
   ]
  },
  {
   "cell_type": "code",
   "execution_count": 62,
   "id": "9a2d5587",
   "metadata": {},
   "outputs": [
    {
     "data": {
      "text/html": [
       "<div>\n",
       "<style scoped>\n",
       "    .dataframe tbody tr th:only-of-type {\n",
       "        vertical-align: middle;\n",
       "    }\n",
       "\n",
       "    .dataframe tbody tr th {\n",
       "        vertical-align: top;\n",
       "    }\n",
       "\n",
       "    .dataframe thead th {\n",
       "        text-align: right;\n",
       "    }\n",
       "</style>\n",
       "<table border=\"1\" class=\"dataframe\">\n",
       "  <thead>\n",
       "    <tr style=\"text-align: right;\">\n",
       "      <th></th>\n",
       "      <th>Date</th>\n",
       "      <th>Open</th>\n",
       "      <th>High</th>\n",
       "      <th>Low</th>\n",
       "      <th>Close</th>\n",
       "      <th>Volume</th>\n",
       "      <th>Dividends</th>\n",
       "      <th>Stock Splits</th>\n",
       "    </tr>\n",
       "  </thead>\n",
       "  <tbody>\n",
       "    <tr>\n",
       "      <th>0</th>\n",
       "      <td>2020-06-18 00:00:00+08:00</td>\n",
       "      <td>403.802507</td>\n",
       "      <td>408.800964</td>\n",
       "      <td>397.375948</td>\n",
       "      <td>408.800964</td>\n",
       "      <td>20206364</td>\n",
       "      <td>0.0</td>\n",
       "      <td>0.0</td>\n",
       "    </tr>\n",
       "    <tr>\n",
       "      <th>1</th>\n",
       "      <td>2020-06-19 00:00:00+08:00</td>\n",
       "      <td>408.800949</td>\n",
       "      <td>415.584540</td>\n",
       "      <td>407.372818</td>\n",
       "      <td>410.943115</td>\n",
       "      <td>27479164</td>\n",
       "      <td>0.0</td>\n",
       "      <td>0.0</td>\n",
       "    </tr>\n",
       "    <tr>\n",
       "      <th>2</th>\n",
       "      <td>2020-06-22 00:00:00+08:00</td>\n",
       "      <td>410.586096</td>\n",
       "      <td>423.617744</td>\n",
       "      <td>409.872031</td>\n",
       "      <td>423.260712</td>\n",
       "      <td>28164190</td>\n",
       "      <td>0.0</td>\n",
       "      <td>0.0</td>\n",
       "    </tr>\n",
       "    <tr>\n",
       "      <th>3</th>\n",
       "      <td>2020-06-23 00:00:00+08:00</td>\n",
       "      <td>428.437660</td>\n",
       "      <td>445.039634</td>\n",
       "      <td>424.153297</td>\n",
       "      <td>443.968536</td>\n",
       "      <td>33983938</td>\n",
       "      <td>0.0</td>\n",
       "      <td>0.0</td>\n",
       "    </tr>\n",
       "    <tr>\n",
       "      <th>4</th>\n",
       "      <td>2020-06-24 00:00:00+08:00</td>\n",
       "      <td>448.074369</td>\n",
       "      <td>450.752099</td>\n",
       "      <td>438.077484</td>\n",
       "      <td>438.077484</td>\n",
       "      <td>25018502</td>\n",
       "      <td>0.0</td>\n",
       "      <td>0.0</td>\n",
       "    </tr>\n",
       "  </tbody>\n",
       "</table>\n",
       "</div>"
      ],
      "text/plain": [
       "                       Date        Open        High         Low       Close  \\\n",
       "0 2020-06-18 00:00:00+08:00  403.802507  408.800964  397.375948  408.800964   \n",
       "1 2020-06-19 00:00:00+08:00  408.800949  415.584540  407.372818  410.943115   \n",
       "2 2020-06-22 00:00:00+08:00  410.586096  423.617744  409.872031  423.260712   \n",
       "3 2020-06-23 00:00:00+08:00  428.437660  445.039634  424.153297  443.968536   \n",
       "4 2020-06-24 00:00:00+08:00  448.074369  450.752099  438.077484  438.077484   \n",
       "\n",
       "     Volume  Dividends  Stock Splits  \n",
       "0  20206364        0.0           0.0  \n",
       "1  27479164        0.0           0.0  \n",
       "2  28164190        0.0           0.0  \n",
       "3  33983938        0.0           0.0  \n",
       "4  25018502        0.0           0.0  "
      ]
     },
     "execution_count": 62,
     "metadata": {},
     "output_type": "execute_result"
    }
   ],
   "source": [
    "symbol = \"0700.HK\"\n",
    "df = yf.Ticker(symbol).history(period = \"5y\").reset_index()\n",
    "df['Date'] = pd.to_datetime(df['Date'])\n",
    "df.head()"
   ]
  },
  {
   "cell_type": "markdown",
   "id": "5bdd5cc9",
   "metadata": {},
   "source": [
    "Vẽ biểu đồ giá đóng cửa:"
   ]
  },
  {
   "cell_type": "code",
   "execution_count": 63,
   "id": "04877550",
   "metadata": {},
   "outputs": [
    {
     "data": {
      "text/plain": [
       "True"
      ]
     },
     "execution_count": 63,
     "metadata": {},
     "output_type": "execute_result"
    }
   ],
   "source": [
    "fig = px.line(df, x='Date', y='Close', title=f'{symbol} Stock Price')\n",
    "fig.update_traces(mode='lines+markers')  \n",
    "fig.update_layout(xaxis_title='Date', yaxis_title='Price (HKD)')\n",
    "fig.write_html(\"tencent_stock_plot.html\")\n",
    "webbrowser.open(\"tencent_stock_plot.html\") \n"
   ]
  },
  {
   "cell_type": "markdown",
   "id": "ef1f93c5",
   "metadata": {},
   "source": [
    "### **1.3.** Làm sạch và tiền xử lí:\n"
   ]
  },
  {
   "cell_type": "markdown",
   "id": "84f45b8b",
   "metadata": {},
   "source": [
    "**1.3.1** Kiểm tra missing value:"
   ]
  },
  {
   "cell_type": "markdown",
   "id": "4005d0be",
   "metadata": {},
   "source": [
    "Theo thông báo chính thức từ HKEX, sàn tiến hành giao dịch vào các ngày từ thứ 2 đến thứ 6, trừ các ngày nghỉ lễ theo lịch của HongKong. Với những ngày nghỉ, tổng khối lượng giao dịch (Volume) sẽ bằng 0. Ta tìm và loại bỏ những ngày này."
   ]
  },
  {
   "cell_type": "code",
   "execution_count": 64,
   "id": "6acc2165",
   "metadata": {},
   "outputs": [],
   "source": [
    "df = df[df['Volume'] > 0]  "
   ]
  },
  {
   "cell_type": "markdown",
   "id": "d333fb50",
   "metadata": {},
   "source": [
    "Ngoài ra, trong các phiên giao dịch của HKEX, tồn tại những phiên giao dịch nửa ngày, sẽ kết thúc vào 12h trưa thay vì 16h chiều như bình thường. Nó có thể làm cho tổng khối lượng giao dịch của cổ phiếu (Volume) thấp hơn bình thường. Các phiên giao dịch cũng có thể ngắt khi chỉ số thị trường giảm mạnh trong một thời gian ngắn (Circurt break), khi có sự cố kĩ thuật hoặc các thảm họa thiên nhiên. Tất cả sự gián đoạn bất thường trên đều ảnh hưởng ít nhiều đến các chỉ số, đặc biệt là Volume. Ta cũng cần loại bỏ các dữ liệu này."
   ]
  },
  {
   "cell_type": "markdown",
   "id": "85c685b1",
   "metadata": {},
   "source": [
    "HKEX có công cấp lịch giao dịch hằng năm. Từ lịch này, ta xác minh được những phiên nửa ngày trong khoảng thời gian khảo sát, bao gồm:\n",
    "\n"
   ]
  },
  {
   "cell_type": "markdown",
   "id": "45cba8c8",
   "metadata": {},
   "source": [
    "| date       | note                    | type     |\n",
    "|------------|-------------------------|----------|\n",
    "| 2020-12-24 | Christmas Eve           | half-day |\n",
    "| 2020-12-31 | New Year’s Eve          | half-day |\n",
    "| 2021-02-09 | Lunar New Year’s Eve    | half-day |\n",
    "| 2021-12-24 | Christmas Eve           | half-day |\n",
    "| 2021-12-31 | New Year’s Eve          | half-day |\n",
    "| 2022-01-31 | Lunar New Year’s Eve    | half-day |\n",
    "| 2024-02-09 | Lunar New Year’s Eve    | half-day |\n",
    "| 2024-12-24 | Christmas Eve           | half-day |\n",
    "| 2024-12-31 | New Year’s Eve          | half-day |\n",
    "| 2025-01-28 | Lunar New Year’s Eve    | half-day |\n",
    "| 2025-12-24 | Christmas Eve           | half-day |\n",
    "| 2025-12-31 | New Year’s Eve          | half-day |\n"
   ]
  },
  {
   "cell_type": "markdown",
   "id": "f693840c",
   "metadata": {},
   "source": [
    "Tiến hành loại bỏ những ngày này khỏi dữ liệu:"
   ]
  },
  {
   "cell_type": "code",
   "execution_count": 65,
   "id": "307e99c6",
   "metadata": {},
   "outputs": [
    {
     "data": {
      "text/html": [
       "<div>\n",
       "<style scoped>\n",
       "    .dataframe tbody tr th:only-of-type {\n",
       "        vertical-align: middle;\n",
       "    }\n",
       "\n",
       "    .dataframe tbody tr th {\n",
       "        vertical-align: top;\n",
       "    }\n",
       "\n",
       "    .dataframe thead th {\n",
       "        text-align: right;\n",
       "    }\n",
       "</style>\n",
       "<table border=\"1\" class=\"dataframe\">\n",
       "  <thead>\n",
       "    <tr style=\"text-align: right;\">\n",
       "      <th></th>\n",
       "      <th>Date</th>\n",
       "      <th>Open</th>\n",
       "      <th>High</th>\n",
       "      <th>Low</th>\n",
       "      <th>Close</th>\n",
       "      <th>Volume</th>\n",
       "      <th>Dividends</th>\n",
       "      <th>Stock Splits</th>\n",
       "    </tr>\n",
       "  </thead>\n",
       "  <tbody>\n",
       "    <tr>\n",
       "      <th>0</th>\n",
       "      <td>2020-06-18 00:00:00+08:00</td>\n",
       "      <td>403.802507</td>\n",
       "      <td>408.800964</td>\n",
       "      <td>397.375948</td>\n",
       "      <td>408.800964</td>\n",
       "      <td>20206364</td>\n",
       "      <td>0.0</td>\n",
       "      <td>0.0</td>\n",
       "    </tr>\n",
       "    <tr>\n",
       "      <th>1</th>\n",
       "      <td>2020-06-19 00:00:00+08:00</td>\n",
       "      <td>408.800949</td>\n",
       "      <td>415.584540</td>\n",
       "      <td>407.372818</td>\n",
       "      <td>410.943115</td>\n",
       "      <td>27479164</td>\n",
       "      <td>0.0</td>\n",
       "      <td>0.0</td>\n",
       "    </tr>\n",
       "    <tr>\n",
       "      <th>2</th>\n",
       "      <td>2020-06-22 00:00:00+08:00</td>\n",
       "      <td>410.586096</td>\n",
       "      <td>423.617744</td>\n",
       "      <td>409.872031</td>\n",
       "      <td>423.260712</td>\n",
       "      <td>28164190</td>\n",
       "      <td>0.0</td>\n",
       "      <td>0.0</td>\n",
       "    </tr>\n",
       "    <tr>\n",
       "      <th>3</th>\n",
       "      <td>2020-06-23 00:00:00+08:00</td>\n",
       "      <td>428.437660</td>\n",
       "      <td>445.039634</td>\n",
       "      <td>424.153297</td>\n",
       "      <td>443.968536</td>\n",
       "      <td>33983938</td>\n",
       "      <td>0.0</td>\n",
       "      <td>0.0</td>\n",
       "    </tr>\n",
       "    <tr>\n",
       "      <th>4</th>\n",
       "      <td>2020-06-24 00:00:00+08:00</td>\n",
       "      <td>448.074369</td>\n",
       "      <td>450.752099</td>\n",
       "      <td>438.077484</td>\n",
       "      <td>438.077484</td>\n",
       "      <td>25018502</td>\n",
       "      <td>0.0</td>\n",
       "      <td>0.0</td>\n",
       "    </tr>\n",
       "  </tbody>\n",
       "</table>\n",
       "</div>"
      ],
      "text/plain": [
       "                       Date        Open        High         Low       Close  \\\n",
       "0 2020-06-18 00:00:00+08:00  403.802507  408.800964  397.375948  408.800964   \n",
       "1 2020-06-19 00:00:00+08:00  408.800949  415.584540  407.372818  410.943115   \n",
       "2 2020-06-22 00:00:00+08:00  410.586096  423.617744  409.872031  423.260712   \n",
       "3 2020-06-23 00:00:00+08:00  428.437660  445.039634  424.153297  443.968536   \n",
       "4 2020-06-24 00:00:00+08:00  448.074369  450.752099  438.077484  438.077484   \n",
       "\n",
       "     Volume  Dividends  Stock Splits  \n",
       "0  20206364        0.0           0.0  \n",
       "1  27479164        0.0           0.0  \n",
       "2  28164190        0.0           0.0  \n",
       "3  33983938        0.0           0.0  \n",
       "4  25018502        0.0           0.0  "
      ]
     },
     "execution_count": 65,
     "metadata": {},
     "output_type": "execute_result"
    }
   ],
   "source": [
    "half_day_dates = [\n",
    "    \"2020-12-24\", \"2020-12-31\", \"2021-02-09\", \"2021-12-24\", \"2021-12-31\",\n",
    "    \"2022-01-31\", \"2024-02-09\", \"2024-12-24\", \"2024-12-31\",\n",
    "    \"2025-01-28\", \"2025-12-24\", \"2025-12-31\"\n",
    "]\n",
    "half_day_dates = pd.to_datetime(half_day_dates)\n",
    "\n",
    "df_filtered = df[~df['Date'].isin(half_day_dates)]\n",
    "df = df_filtered\n",
    "\n",
    "df.head()"
   ]
  },
  {
   "cell_type": "markdown",
   "id": "9a48fdfb",
   "metadata": {},
   "source": [
    "**1.3.2** Kiểm tra trùng lặp:"
   ]
  },
  {
   "cell_type": "code",
   "execution_count": 66,
   "id": "c4dec09f",
   "metadata": {},
   "outputs": [
    {
     "name": "stdout",
     "output_type": "stream",
     "text": [
      "Dữ liệu không có giá trị trùng nên không cần loại bỏ dòng\n"
     ]
    }
   ],
   "source": [
    "if (df.duplicated().sum()) == 0:\n",
    "    print(\"Dữ liệu không có giá trị trùng nên không cần loại bỏ dòng\")\n",
    "else:\n",
    "    print(\"Dữ liệu có giá trị thiếu\")    "
   ]
  },
  {
   "cell_type": "markdown",
   "id": "6380979a",
   "metadata": {},
   "source": [
    "**1.3.3** Chuyển cột ngày tháng về định dạng `datetime`"
   ]
  },
  {
   "cell_type": "code",
   "execution_count": 67,
   "id": "b11d9f40",
   "metadata": {},
   "outputs": [],
   "source": [
    "df['Date'] = pd.to_datetime(df['Date'])"
   ]
  },
  {
   "cell_type": "markdown",
   "id": "96b1c748",
   "metadata": {},
   "source": [
    "**1.3.4** Sort theo ngày:"
   ]
  },
  {
   "cell_type": "code",
   "execution_count": 68,
   "id": "101f3af0",
   "metadata": {},
   "outputs": [],
   "source": [
    "df = df.sort_values('Date')"
   ]
  },
  {
   "cell_type": "markdown",
   "id": "7e6186b9",
   "metadata": {},
   "source": [
    "**1.3.5** Kiểm tra outliers"
   ]
  },
  {
   "cell_type": "markdown",
   "id": "50404f04",
   "metadata": {},
   "source": [
    "Vì đã loại bỏ hết tất cả những bất thường do yếu tố khách quan (sàn giao dịch, thời gian giao dịch), nên outliers (nếu có xuất hiện) chính là do các giá trị lên xuống bất chợt do hoảng loạn mà không phản ánh giá trị thực của cổ phiếu. Ta loại bỏ các giá trị này."
   ]
  },
  {
   "cell_type": "markdown",
   "id": "87e8a77c",
   "metadata": {},
   "source": [
    "Phương pháp được sử dụng để loại bỏ outliers là tứ phân vị (IQR). Đầu tiên, ta sẽ sắp xếp dữ liệu theo chiều từ thấp đến cao giá cuối ngày (Close)."
   ]
  },
  {
   "cell_type": "code",
   "execution_count": 69,
   "id": "59156483",
   "metadata": {},
   "outputs": [],
   "source": [
    "df = df.sort_values(\"Close\")"
   ]
  },
  {
   "cell_type": "markdown",
   "id": "068b352c",
   "metadata": {},
   "source": [
    "Ta tính Q1 (25%) và Q2 (75%) của cột close:"
   ]
  },
  {
   "cell_type": "code",
   "execution_count": 70,
   "id": "33ebaf6a",
   "metadata": {},
   "outputs": [],
   "source": [
    "Q1 = df[\"Close\"].quantile(0.25)\n",
    "Q3 = df[\"Close\"].quantile(0.75)"
   ]
  },
  {
   "cell_type": "markdown",
   "id": "8fdd523e",
   "metadata": {},
   "source": [
    "Chỉ số IQR sẽ được tính bằng Q3 - Q1:"
   ]
  },
  {
   "cell_type": "code",
   "execution_count": 71,
   "id": "0bfb422d",
   "metadata": {},
   "outputs": [],
   "source": [
    "IQR = Q3 - Q1"
   ]
  },
  {
   "cell_type": "markdown",
   "id": "ddb26822",
   "metadata": {},
   "source": [
    "Theo như Tukey Range Test, dữ liệu ngoại lai (outliers) sẽ là những dữ liệu nằm ngoài khoảng (Low, Up) với:\n"
   ]
  },
  {
   "cell_type": "markdown",
   "id": "e931e588",
   "metadata": {},
   "source": [
    "\n",
    "- Low: $Q_1 - 1.5 \\times IQR$\n",
    "- Up: $Q_3 + 1.5 \\times IQR$\n"
   ]
  },
  {
   "cell_type": "code",
   "execution_count": 72,
   "id": "e6d09980",
   "metadata": {},
   "outputs": [],
   "source": [
    "low = Q1 - 1.5 * IQR\n",
    "up= Q3 + 1.5 * IQR"
   ]
  },
  {
   "cell_type": "markdown",
   "id": "3004e7fb",
   "metadata": {},
   "source": [
    "Tiến hành loại bỏ outliers ra khỏi dữ liệu:"
   ]
  },
  {
   "cell_type": "code",
   "execution_count": 73,
   "id": "63b1dd8d",
   "metadata": {},
   "outputs": [],
   "source": [
    "df = df[(df[\"Close\"] >= low) & (df[\"Close\"] <= up)]"
   ]
  },
  {
   "cell_type": "markdown",
   "id": "bbeaf237",
   "metadata": {},
   "source": [
    "#### Sau các bước làm sạch và xử lí dữ liệu, ta kết luận: ####"
   ]
  },
  {
   "cell_type": "markdown",
   "id": "13112b39",
   "metadata": {},
   "source": [
    "Dữ liệu thu thập được từ thư viện `yfinance` cho mã cổ phiếu Tencent (`0700.HK`) đã có đầy đủ các cột cần thiết: `Date`, `Open`, `High`, `Low`, `Close`, `Volume`. Qua kiểm tra sơ bộ:\n",
    "\n",
    "- Không xuất hiện các giá trị thiếu (`NaN`) trong các cột quan trọng.\n",
    "- Không phát hiện outliers rõ rệt trong dữ liệu.\n",
    "- Cột `Date` đã có định dạng thời gian chuẩn `ISO 8601` và được chuyển về kiểu `date time` trong Python để phục vụ phân tích thời gian.\n",
    "\n",
    "**Do đó, không cần thực hiện thao tác loại bỏ hay xử lí thêm. Dữ liệu đã sẵn sàng để tính toán các chỉ số kỹ thuật và phân tích tiếp theo.**"
   ]
  },
  {
   "cell_type": "markdown",
   "id": "f3cb5776",
   "metadata": {},
   "source": [
    "### **1.4.** Tính toán chỉ số kĩ thuật cơ bản:\n",
    "**1.4.1.** Trung bình động đơn giản **SMA** với các khoảng 20 ngày, 50 ngày:"
   ]
  },
  {
   "cell_type": "code",
   "execution_count": 74,
   "id": "82ed380d",
   "metadata": {},
   "outputs": [],
   "source": [
    "df['SMA20'] = df['Close'].rolling(window=20).mean()\n",
    "df['SMA50'] = df['Close'].rolling(window=50).mean()"
   ]
  },
  {
   "cell_type": "markdown",
   "id": "99b897ca",
   "metadata": {},
   "source": [
    "**1.4.2.** Trung bình động hàm mũ **EMA** với khoảng 20 ngày:"
   ]
  },
  {
   "cell_type": "code",
   "execution_count": 75,
   "id": "86deb549",
   "metadata": {},
   "outputs": [],
   "source": [
    "df['EMA20'] = df['Close'].ewm(span=20, adjust=False).mean()"
   ]
  },
  {
   "cell_type": "markdown",
   "id": "7b60f2a4",
   "metadata": {},
   "source": [
    "**1.4.3.** Chỉ số sức mạnh tương đối **RSI**:"
   ]
  },
  {
   "cell_type": "code",
   "execution_count": 76,
   "id": "274e05cd",
   "metadata": {},
   "outputs": [],
   "source": [
    "def compute_rsi(data, window=14):\n",
    "    delta = data.diff()\n",
    "    gain = delta.clip(lower=0)\n",
    "    loss = -1 * delta.clip(upper=0)\n",
    "    avg_gain = gain.rolling(window=window).mean()\n",
    "    avg_loss = loss.rolling(window=window).mean()\n",
    "    rs = avg_gain / avg_loss\n",
    "    rsi = 100 - (100 / (1 + rs))\n",
    "    return rsi\n",
    "\n",
    "df['RSI'] = compute_rsi(df['Close'])\n"
   ]
  },
  {
   "cell_type": "markdown",
   "id": "44c9bd6a",
   "metadata": {},
   "source": [
    "### **1.5.** Phân tích dữ liệu:"
   ]
  },
  {
   "cell_type": "markdown",
   "id": "67bf5a17",
   "metadata": {},
   "source": [
    "**1.5.1.** Tính lợi suất ngày, phân phối lợi suất:\n",
    "- Lợi suất hằng ngày được tính bằng tỷ lệ phần trăm thay đổi giữa giá đóng cửa của ngày hiện tại và ngày trước đó. Lợi suất hằng ngày giúp đánh giá tốc độ tăng/giảm giá trong ngắn hạn.\n",
    "Biến `Daily Return` được thêm vào để phân tích lợi suất và biến động."
   ]
  },
  {
   "cell_type": "code",
   "execution_count": 77,
   "id": "1dc0273e",
   "metadata": {},
   "outputs": [],
   "source": [
    "df['Daily Return'] = df['Close'].pct_change()"
   ]
  },
  {
   "cell_type": "markdown",
   "id": "206e1448",
   "metadata": {},
   "source": [
    "- Phân phối lợi suất bằng Histogram để xem lợi suất nằm trong khoảng nào, phân phối như thế nào.\n",
    "- Công thức được sử dụng:\n",
    "\n",
    "$$\n",
    "r_t = \\frac{P_t - P_{t-1}}{P_{t-1}}\n",
    "$$"
   ]
  },
  {
   "cell_type": "code",
   "execution_count": 78,
   "id": "dd4e995d",
   "metadata": {},
   "outputs": [
    {
     "data": {
      "image/png": "[encoded data removed]",
      "text/plain": [
       "<Figure size 640x480 with 1 Axes>"
      ]
     },
     "metadata": {},
     "output_type": "display_data"
    }
   ],
   "source": [
    "sns.histplot(df['Daily Return'].dropna(), bins=50, kde=True)\n",
    "plt.title('Phân phối lợi suất hằng ngày (Daily Return)')\n",
    "plt.xlabel('Lợi suất')\n",
    "plt.ylabel('Tần suất')\n",
    "plt.grid(True)\n",
    "plt.show()\n"
   ]
  },
  {
   "cell_type": "markdown",
   "id": "2712bc37",
   "metadata": {},
   "source": [
    "**1.5.2** Tính độ biến động (volatility) theo tháng hoặc quý:\n"
   ]
  },
  {
   "cell_type": "markdown",
   "id": "b66b815a",
   "metadata": {},
   "source": [
    "- Độ biến động theo tháng/quý được tính bằng độ lệch chuẩn của lợi suất hằng ngày trong từng tháng/quý đó. Qua đó, có thể xác định được các giai đoạn giá cổ phiếu dao động mạnh.\n",
    "\n",
    "\n",
    "Vì thời gian khảo sát là tương đối dài (5 năm), ta sẽ ưu tiên tính độ biến động theo quý để dễ dàng theo dõi dữ liệu"
   ]
  },
  {
   "cell_type": "code",
   "execution_count": 83,
   "id": "641142e0",
   "metadata": {},
   "outputs": [
    {
     "name": "stderr",
     "output_type": "stream",
     "text": [
      "C:\\Users\\Admin\\AppData\\Local\\Temp\\ipykernel_8712\\1055457015.py:1: UserWarning:\n",
      "\n",
      "Converting to PeriodArray/Index representation will drop timezone information.\n",
      "\n"
     ]
    },
    {
     "data": {
      "text/plain": [
       "Quarter\n",
       "2020Q2    0.000566\n",
       "2020Q3    0.001003\n",
       "2020Q4    0.000500\n",
       "2021Q1    0.004278\n",
       "2021Q2    0.001194\n",
       "2021Q3    0.000682\n",
       "2021Q4    0.000799\n",
       "2022Q1    0.000610\n",
       "2022Q2    0.000756\n",
       "2022Q3    0.001427\n",
       "2022Q4    0.008096\n",
       "2023Q1    0.000705\n",
       "2023Q2    0.000615\n",
       "2023Q3    0.000733\n",
       "2023Q4    0.000418\n",
       "2024Q1    0.000954\n",
       "2024Q2    0.000633\n",
       "2024Q3    0.000458\n",
       "2024Q4    0.000713\n",
       "2025Q1    0.000864\n",
       "2025Q2    0.000513\n",
       "Freq: Q-DEC, Name: Daily Return, dtype: float64"
      ]
     },
     "metadata": {},
     "output_type": "display_data"
    }
   ],
   "source": [
    "df['Quarter'] = df['Date'].dt.to_period('Q')\n",
    "quarter_volatility = df.groupby('Quarter')['Daily Return'].std()\n",
    "display(quarter_volatility)"
   ]
  }
 ],
 "metadata": {
  "kernelspec": {
   "display_name": "Python 3",
   "language": "python",
   "name": "python3"
  },
  "language_info": {
   "codemirror_mode": {
    "name": "ipython",
    "version": 3
   },
   "file_extension": ".py",
   "mimetype": "text/x-python",
   "name": "python",
   "nbconvert_exporter": "python",
   "pygments_lexer": "ipython3",
   "version": "3.13.3"
  }
 },
 "nbformat": 4,
 "nbformat_minor": 5
}
